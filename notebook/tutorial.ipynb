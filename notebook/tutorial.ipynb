{
 "cells": [
  {
   "cell_type": "code",
   "execution_count": 1,
   "metadata": {
    "collapsed": true,
    "run_control": {
     "frozen": false,
     "read_only": false
    }
   },
   "outputs": [],
   "source": [
    "import numpy as np\n",
    "import sys"
   ]
  },
  {
   "cell_type": "markdown",
   "metadata": {
    "run_control": {
     "frozen": false,
     "read_only": false
    }
   },
   "source": [
    "Path to the python folder of the BraggEdge library"
   ]
  },
  {
   "cell_type": "code",
   "execution_count": 2,
   "metadata": {
    "collapsed": true,
    "run_control": {
     "frozen": false,
     "read_only": false
    }
   },
   "outputs": [],
   "source": [
    "sys.path.append('/users/j35/git/braggedge/')"
   ]
  },
  {
   "cell_type": "markdown",
   "metadata": {
    "run_control": {
     "frozen": false,
     "read_only": false
    }
   },
   "source": [
    "### Retrieving values from table"
   ]
  },
  {
   "cell_type": "code",
   "execution_count": 3,
   "metadata": {
    "collapsed": true,
    "run_control": {
     "frozen": false,
     "read_only": false
    }
   },
   "outputs": [],
   "source": [
    "from neutronbraggedge.braggedge import BraggEdge"
   ]
  },
  {
   "cell_type": "code",
   "execution_count": 6,
   "metadata": {
    "collapsed": false,
    "run_control": {
     "frozen": false,
     "read_only": false
    }
   },
   "outputs": [],
   "source": [
    "_handler = BraggEdge(material = ['Si'], number_of_bragg_edges=20)"
   ]
  },
  {
   "cell_type": "code",
   "execution_count": 7,
   "metadata": {
    "collapsed": false,
    "run_control": {
     "frozen": false,
     "read_only": false
    }
   },
   "outputs": [
    {
     "name": "stdout",
     "output_type": "stream",
     "text": [
      "=============================================\n",
      "Material: Si\n",
      "Lattice : 5.4316Å\n",
      "Crystal Structure: FCC\n",
      "Using local metadata Table: True\n",
      "=============================================\n",
      " h | k | l |\t d (Å)  |\t BraggEdge\n",
      "---------------------------------------------\n",
      " 1 | 1 | 1 |\t 3.13593 |\t 6.27186\n",
      " 2 | 0 | 0 |\t 2.71580 |\t 5.43159\n",
      " 2 | 2 | 0 |\t 1.92036 |\t 3.84071\n",
      " 2 | 2 | 2 |\t 1.56797 |\t 3.13593\n",
      " 3 | 1 | 1 |\t 1.63769 |\t 3.27537\n",
      " 3 | 3 | 1 |\t 1.24609 |\t 2.49218\n",
      " 3 | 3 | 3 |\t 1.04531 |\t 2.09062\n",
      " 4 | 0 | 0 |\t 1.35790 |\t 2.71580\n",
      " 4 | 2 | 0 |\t 1.21454 |\t 2.42908\n",
      " 4 | 2 | 2 |\t 1.10872 |\t 2.21744\n",
      " 4 | 4 | 0 |\t 0.96018 |\t 1.92036\n",
      " 4 | 4 | 2 |\t 0.90527 |\t 1.81053\n",
      " 4 | 4 | 4 |\t 0.78398 |\t 1.56797\n",
      " 5 | 1 | 1 |\t 1.04531 |\t 2.09062\n",
      " 5 | 3 | 1 |\t 0.91811 |\t 1.83621\n",
      " 5 | 3 | 3 |\t 0.82831 |\t 1.65662\n",
      " 5 | 5 | 1 |\t 0.76057 |\t 1.52115\n",
      " 5 | 5 | 3 |\t 0.70713 |\t 1.41427\n",
      " 5 | 5 | 5 |\t 0.62719 |\t 1.25437\n",
      " 6 | 0 | 0 |\t 0.90527 |\t 1.81053\n",
      "=============================================\n",
      "\n"
     ]
    }
   ],
   "source": [
    "print(_handler)"
   ]
  },
  {
   "cell_type": "markdown",
   "metadata": {
    "run_control": {
     "frozen": false,
     "read_only": false
    }
   },
   "source": [
    "### Adding manually a material "
   ]
  },
  {
   "cell_type": "code",
   "execution_count": 8,
   "metadata": {
    "collapsed": true,
    "run_control": {
     "frozen": false,
     "read_only": false
    }
   },
   "outputs": [],
   "source": [
    "new_material = [{'name': 'AlNi',\n",
    "               'lattice': 5.55,\n",
    "               'crystal_structure': 'BCC'}]\n",
    "_handler = BraggEdge(new_material= new_material)"
   ]
  },
  {
   "cell_type": "code",
   "execution_count": 9,
   "metadata": {
    "collapsed": false,
    "run_control": {
     "frozen": false,
     "read_only": false
    }
   },
   "outputs": [
    {
     "name": "stdout",
     "output_type": "stream",
     "text": [
      "=============================================\n",
      "Material: AlNi\n",
      "Lattice : 5.5500Å\n",
      "Crystal Structure: BCC\n",
      "Using local metadata Table: True\n",
      "=============================================\n",
      " h | k | l |\t d (Å)  |\t BraggEdge\n",
      "---------------------------------------------\n",
      " 1 | 1 | 0 |\t 3.92444 |\t 7.84889\n",
      " 2 | 0 | 0 |\t 2.77500 |\t 5.55000\n",
      " 2 | 1 | 1 |\t 2.26578 |\t 4.53156\n",
      " 2 | 2 | 0 |\t 1.96222 |\t 3.92444\n",
      " 2 | 2 | 2 |\t 1.60215 |\t 3.20429\n",
      " 3 | 1 | 0 |\t 1.75506 |\t 3.51013\n",
      " 3 | 2 | 1 |\t 1.48330 |\t 2.96660\n",
      " 3 | 3 | 0 |\t 1.30815 |\t 2.61630\n",
      " 3 | 3 | 2 |\t 1.18326 |\t 2.36653\n",
      " 4 | 0 | 0 |\t 1.38750 |\t 2.77500\n",
      "=============================================\n",
      "\n"
     ]
    }
   ],
   "source": [
    "print(_handler)"
   ]
  },
  {
   "cell_type": "code",
   "execution_count": null,
   "metadata": {
    "collapsed": true,
    "run_control": {
     "frozen": false,
     "read_only": false
    }
   },
   "outputs": [],
   "source": []
  }
 ],
 "metadata": {
  "anaconda-cloud": {},
  "kernelspec": {
   "display_name": "Python 3",
   "language": "python",
   "name": "python3"
  },
  "language_info": {
   "codemirror_mode": {
    "name": "ipython",
    "version": 3
   },
   "file_extension": ".py",
   "mimetype": "text/x-python",
   "name": "python",
   "nbconvert_exporter": "python",
   "pygments_lexer": "ipython3",
   "version": "3.4.5"
  },
  "toc": {
   "colors": {
    "hover_highlight": "#DAA520",
    "running_highlight": "#FF0000",
    "selected_highlight": "#FFD700"
   },
   "moveMenuLeft": true,
   "nav_menu": {
    "height": "48px",
    "width": "252px"
   },
   "navigate_menu": true,
   "number_sections": true,
   "sideBar": true,
   "threshold": 4,
   "toc_cell": false,
   "toc_section_display": "block",
   "toc_window_display": false
  }
 },
 "nbformat": 4,
 "nbformat_minor": 1
}
