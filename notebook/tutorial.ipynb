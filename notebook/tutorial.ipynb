{
 "cells": [
  {
   "cell_type": "code",
   "execution_count": 1,
   "metadata": {
    "run_control": {
     "frozen": false,
     "read_only": false
    }
   },
   "outputs": [],
   "source": [
    "import numpy as np\n",
    "import sys"
   ]
  },
  {
   "cell_type": "markdown",
   "metadata": {
    "run_control": {
     "frozen": false,
     "read_only": false
    }
   },
   "source": [
    "Path to the python folder of the BraggEdge library"
   ]
  },
  {
   "cell_type": "code",
   "execution_count": 2,
   "metadata": {
    "run_control": {
     "frozen": false,
     "read_only": false
    }
   },
   "outputs": [],
   "source": [
    "sys.path.append('/Users/j35/git/BraggEdge/')"
   ]
  },
  {
   "cell_type": "markdown",
   "metadata": {
    "run_control": {
     "frozen": false,
     "read_only": false
    }
   },
   "source": [
    "### Retrieving values from table"
   ]
  },
  {
   "cell_type": "code",
   "execution_count": 3,
   "metadata": {
    "run_control": {
     "frozen": false,
     "read_only": false
    }
   },
   "outputs": [],
   "source": [
    "from neutronbraggedge.braggedge import BraggEdge"
   ]
  },
  {
   "cell_type": "code",
   "execution_count": 5,
   "metadata": {
    "run_control": {
     "frozen": false,
     "read_only": false
    }
   },
   "outputs": [
    {
     "ename": "KeyError",
     "evalue": "'list_structure'",
     "output_type": "error",
     "traceback": [
      "\u001b[0;31m---------------------------------------------------------------------------\u001b[0m",
      "\u001b[0;31mKeyError\u001b[0m                                  Traceback (most recent call last)",
      "\u001b[0;32m<ipython-input-5-17fb2df3f889>\u001b[0m in \u001b[0;36m<module>\u001b[0;34m()\u001b[0m\n\u001b[0;32m----> 1\u001b[0;31m \u001b[0m_handler\u001b[0m \u001b[0;34m=\u001b[0m \u001b[0mBraggEdge\u001b[0m\u001b[0;34m(\u001b[0m\u001b[0mmaterial\u001b[0m \u001b[0;34m=\u001b[0m \u001b[0;34m[\u001b[0m\u001b[0;34m'Si'\u001b[0m\u001b[0;34m]\u001b[0m\u001b[0;34m,\u001b[0m \u001b[0mnumber_of_bragg_edges\u001b[0m\u001b[0;34m=\u001b[0m\u001b[0;36m20\u001b[0m\u001b[0;34m)\u001b[0m\u001b[0;34m\u001b[0m\u001b[0m\n\u001b[0m",
      "\u001b[0;32m~/anaconda/envs/py36/lib/python3.6/site-packages/neutronbraggedge/braggedge.py\u001b[0m in \u001b[0;36m__init__\u001b[0;34m(self, material, new_material, number_of_bragg_edges, use_local_metadata_table)\u001b[0m\n\u001b[1;32m    110\u001b[0m \u001b[0;34m\u001b[0m\u001b[0m\n\u001b[1;32m    111\u001b[0m         \u001b[0mself\u001b[0m\u001b[0;34m.\u001b[0m\u001b[0m_retrieve_metadata\u001b[0m\u001b[0;34m(\u001b[0m\u001b[0mnew_material\u001b[0m \u001b[0;34m=\u001b[0m \u001b[0mnew_material\u001b[0m\u001b[0;34m)\u001b[0m\u001b[0;34m\u001b[0m\u001b[0m\n\u001b[0;32m--> 112\u001b[0;31m         \u001b[0mself\u001b[0m\u001b[0;34m.\u001b[0m\u001b[0m_calculate_hkl\u001b[0m\u001b[0;34m(\u001b[0m\u001b[0;34m)\u001b[0m\u001b[0;34m\u001b[0m\u001b[0m\n\u001b[0m\u001b[1;32m    113\u001b[0m         \u001b[0mself\u001b[0m\u001b[0;34m.\u001b[0m\u001b[0m_calculate_braggedges\u001b[0m\u001b[0;34m(\u001b[0m\u001b[0;34m)\u001b[0m\u001b[0;34m\u001b[0m\u001b[0m\n\u001b[1;32m    114\u001b[0m \u001b[0;34m\u001b[0m\u001b[0m\n",
      "\u001b[0;32m~/anaconda/envs/py36/lib/python3.6/site-packages/neutronbraggedge/braggedge.py\u001b[0m in \u001b[0;36m_calculate_hkl\u001b[0;34m(self)\u001b[0m\n\u001b[1;32m    169\u001b[0m             _calculator = BraggEdgeCalculator(structure_name = _structure_name,\n\u001b[1;32m    170\u001b[0m                                               \u001b[0mlattice\u001b[0m \u001b[0;34m=\u001b[0m \u001b[0m_lattice\u001b[0m\u001b[0;34m,\u001b[0m\u001b[0;34m\u001b[0m\u001b[0m\n\u001b[0;32m--> 171\u001b[0;31m                                               number_of_set = self.number_of_bragg_edges)\n\u001b[0m\u001b[1;32m    172\u001b[0m \u001b[0;34m\u001b[0m\u001b[0m\n\u001b[1;32m    173\u001b[0m             \u001b[0m_calculator\u001b[0m\u001b[0;34m.\u001b[0m\u001b[0mcalculate_hkl\u001b[0m\u001b[0;34m(\u001b[0m\u001b[0;34m)\u001b[0m\u001b[0;34m\u001b[0m\u001b[0m\n",
      "\u001b[0;32m~/anaconda/envs/py36/lib/python3.6/site-packages/neutronbraggedge/braggedges_handler/braggedge_calculator.py\u001b[0m in \u001b[0;36m__init__\u001b[0;34m(self, structure_name, lattice, number_of_set)\u001b[0m\n\u001b[1;32m     17\u001b[0m \u001b[0;34m\u001b[0m\u001b[0m\n\u001b[1;32m     18\u001b[0m     \u001b[0;32mdef\u001b[0m \u001b[0m__init__\u001b[0m\u001b[0;34m(\u001b[0m\u001b[0mself\u001b[0m\u001b[0;34m,\u001b[0m \u001b[0mstructure_name\u001b[0m\u001b[0;34m=\u001b[0m\u001b[0;34m\"FCC\"\u001b[0m\u001b[0;34m,\u001b[0m \u001b[0mlattice\u001b[0m\u001b[0;34m=\u001b[0m\u001b[0;32mNone\u001b[0m\u001b[0;34m,\u001b[0m \u001b[0mnumber_of_set\u001b[0m\u001b[0;34m=\u001b[0m\u001b[0;36m10\u001b[0m\u001b[0;34m)\u001b[0m\u001b[0;34m:\u001b[0m\u001b[0;34m\u001b[0m\u001b[0m\n\u001b[0;32m---> 19\u001b[0;31m         \u001b[0mself\u001b[0m\u001b[0;34m.\u001b[0m\u001b[0mstructure\u001b[0m \u001b[0;34m=\u001b[0m \u001b[0mstructure_name\u001b[0m \u001b[0;31m#only used to test validity of input\u001b[0m\u001b[0;34m\u001b[0m\u001b[0m\n\u001b[0m\u001b[1;32m     20\u001b[0m         \u001b[0mself\u001b[0m\u001b[0;34m.\u001b[0m\u001b[0m_structure\u001b[0m \u001b[0;34m=\u001b[0m \u001b[0mstructure_name\u001b[0m\u001b[0;34m\u001b[0m\u001b[0m\n\u001b[1;32m     21\u001b[0m         \u001b[0mself\u001b[0m\u001b[0;34m.\u001b[0m\u001b[0m_number_of_set\u001b[0m \u001b[0;34m=\u001b[0m \u001b[0mnumber_of_set\u001b[0m\u001b[0;34m\u001b[0m\u001b[0m\n",
      "\u001b[0;32m~/anaconda/envs/py36/lib/python3.6/site-packages/neutronbraggedge/braggedges_handler/braggedge_calculator.py\u001b[0m in \u001b[0;36mstructure\u001b[0;34m(self, structure_name)\u001b[0m\n\u001b[1;32m     32\u001b[0m         \u001b[0mconfig_obj\u001b[0m \u001b[0;34m=\u001b[0m \u001b[0mconfigparser\u001b[0m\u001b[0;34m.\u001b[0m\u001b[0mConfigParser\u001b[0m\u001b[0;34m(\u001b[0m\u001b[0;34m)\u001b[0m\u001b[0;34m\u001b[0m\u001b[0m\n\u001b[1;32m     33\u001b[0m         \u001b[0mconfig_obj\u001b[0m\u001b[0;34m.\u001b[0m\u001b[0mread\u001b[0m\u001b[0;34m(\u001b[0m\u001b[0m_config_file\u001b[0m\u001b[0;34m)\u001b[0m\u001b[0;34m\u001b[0m\u001b[0m\n\u001b[0;32m---> 34\u001b[0;31m         \u001b[0mself\u001b[0m\u001b[0;34m.\u001b[0m\u001b[0m_list_structure\u001b[0m \u001b[0;34m=\u001b[0m \u001b[0mconfig_obj\u001b[0m\u001b[0;34m[\u001b[0m\u001b[0;34m'DEFAULT'\u001b[0m\u001b[0;34m]\u001b[0m\u001b[0;34m[\u001b[0m\u001b[0;34m'list_structure'\u001b[0m\u001b[0;34m]\u001b[0m\u001b[0;34m\u001b[0m\u001b[0m\n\u001b[0m\u001b[1;32m     35\u001b[0m \u001b[0;34m\u001b[0m\u001b[0m\n\u001b[1;32m     36\u001b[0m         \u001b[0;32mif\u001b[0m \u001b[0;32mnot\u001b[0m \u001b[0;34m(\u001b[0m\u001b[0mstructure_name\u001b[0m \u001b[0;32min\u001b[0m \u001b[0mself\u001b[0m\u001b[0;34m.\u001b[0m\u001b[0m_list_structure\u001b[0m\u001b[0;34m)\u001b[0m\u001b[0;34m:\u001b[0m\u001b[0;34m\u001b[0m\u001b[0m\n",
      "\u001b[0;32m~/anaconda/envs/py36/lib/python3.6/configparser.py\u001b[0m in \u001b[0;36m__getitem__\u001b[0;34m(self, key)\u001b[0m\n\u001b[1;32m   1231\u001b[0m     \u001b[0;32mdef\u001b[0m \u001b[0m__getitem__\u001b[0m\u001b[0;34m(\u001b[0m\u001b[0mself\u001b[0m\u001b[0;34m,\u001b[0m \u001b[0mkey\u001b[0m\u001b[0;34m)\u001b[0m\u001b[0;34m:\u001b[0m\u001b[0;34m\u001b[0m\u001b[0m\n\u001b[1;32m   1232\u001b[0m         \u001b[0;32mif\u001b[0m \u001b[0;32mnot\u001b[0m \u001b[0mself\u001b[0m\u001b[0;34m.\u001b[0m\u001b[0m_parser\u001b[0m\u001b[0;34m.\u001b[0m\u001b[0mhas_option\u001b[0m\u001b[0;34m(\u001b[0m\u001b[0mself\u001b[0m\u001b[0;34m.\u001b[0m\u001b[0m_name\u001b[0m\u001b[0;34m,\u001b[0m \u001b[0mkey\u001b[0m\u001b[0;34m)\u001b[0m\u001b[0;34m:\u001b[0m\u001b[0;34m\u001b[0m\u001b[0m\n\u001b[0;32m-> 1233\u001b[0;31m             \u001b[0;32mraise\u001b[0m \u001b[0mKeyError\u001b[0m\u001b[0;34m(\u001b[0m\u001b[0mkey\u001b[0m\u001b[0;34m)\u001b[0m\u001b[0;34m\u001b[0m\u001b[0m\n\u001b[0m\u001b[1;32m   1234\u001b[0m         \u001b[0;32mreturn\u001b[0m \u001b[0mself\u001b[0m\u001b[0;34m.\u001b[0m\u001b[0m_parser\u001b[0m\u001b[0;34m.\u001b[0m\u001b[0mget\u001b[0m\u001b[0;34m(\u001b[0m\u001b[0mself\u001b[0m\u001b[0;34m.\u001b[0m\u001b[0m_name\u001b[0m\u001b[0;34m,\u001b[0m \u001b[0mkey\u001b[0m\u001b[0;34m)\u001b[0m\u001b[0;34m\u001b[0m\u001b[0m\n\u001b[1;32m   1235\u001b[0m \u001b[0;34m\u001b[0m\u001b[0m\n",
      "\u001b[0;31mKeyError\u001b[0m: 'list_structure'"
     ]
    }
   ],
   "source": [
    "_handler = BraggEdge(material = ['Si'], number_of_bragg_edges=20)"
   ]
  },
  {
   "cell_type": "code",
   "execution_count": 7,
   "metadata": {
    "run_control": {
     "frozen": false,
     "read_only": false
    }
   },
   "outputs": [
    {
     "name": "stdout",
     "output_type": "stream",
     "text": [
      "=============================================\n",
      "Material: Si\n",
      "Lattice : 5.4316Å\n",
      "Crystal Structure: FCC\n",
      "Using local metadata Table: True\n",
      "=============================================\n",
      " h | k | l |\t d (Å)  |\t BraggEdge\n",
      "---------------------------------------------\n",
      " 1 | 1 | 1 |\t 3.13593 |\t 6.27186\n",
      " 2 | 0 | 0 |\t 2.71580 |\t 5.43159\n",
      " 2 | 2 | 0 |\t 1.92036 |\t 3.84071\n",
      " 2 | 2 | 2 |\t 1.56797 |\t 3.13593\n",
      " 3 | 1 | 1 |\t 1.63769 |\t 3.27537\n",
      " 3 | 3 | 1 |\t 1.24609 |\t 2.49218\n",
      " 3 | 3 | 3 |\t 1.04531 |\t 2.09062\n",
      " 4 | 0 | 0 |\t 1.35790 |\t 2.71580\n",
      " 4 | 2 | 0 |\t 1.21454 |\t 2.42908\n",
      " 4 | 2 | 2 |\t 1.10872 |\t 2.21744\n",
      " 4 | 4 | 0 |\t 0.96018 |\t 1.92036\n",
      " 4 | 4 | 2 |\t 0.90527 |\t 1.81053\n",
      " 4 | 4 | 4 |\t 0.78398 |\t 1.56797\n",
      " 5 | 1 | 1 |\t 1.04531 |\t 2.09062\n",
      " 5 | 3 | 1 |\t 0.91811 |\t 1.83621\n",
      " 5 | 3 | 3 |\t 0.82831 |\t 1.65662\n",
      " 5 | 5 | 1 |\t 0.76057 |\t 1.52115\n",
      " 5 | 5 | 3 |\t 0.70713 |\t 1.41427\n",
      " 5 | 5 | 5 |\t 0.62719 |\t 1.25437\n",
      " 6 | 0 | 0 |\t 0.90527 |\t 1.81053\n",
      "=============================================\n",
      "\n"
     ]
    }
   ],
   "source": [
    "print(_handler)"
   ]
  },
  {
   "cell_type": "markdown",
   "metadata": {
    "run_control": {
     "frozen": false,
     "read_only": false
    }
   },
   "source": [
    "### Adding manually a material "
   ]
  },
  {
   "cell_type": "code",
   "execution_count": 8,
   "metadata": {
    "collapsed": true,
    "run_control": {
     "frozen": false,
     "read_only": false
    }
   },
   "outputs": [],
   "source": [
    "new_material = [{'name': 'AlNi',\n",
    "               'lattice': 5.55,\n",
    "               'crystal_structure': 'BCC'}]\n",
    "_handler = BraggEdge(new_material= new_material)"
   ]
  },
  {
   "cell_type": "code",
   "execution_count": 9,
   "metadata": {
    "run_control": {
     "frozen": false,
     "read_only": false
    }
   },
   "outputs": [
    {
     "name": "stdout",
     "output_type": "stream",
     "text": [
      "=============================================\n",
      "Material: AlNi\n",
      "Lattice : 5.5500Å\n",
      "Crystal Structure: BCC\n",
      "Using local metadata Table: True\n",
      "=============================================\n",
      " h | k | l |\t d (Å)  |\t BraggEdge\n",
      "---------------------------------------------\n",
      " 1 | 1 | 0 |\t 3.92444 |\t 7.84889\n",
      " 2 | 0 | 0 |\t 2.77500 |\t 5.55000\n",
      " 2 | 1 | 1 |\t 2.26578 |\t 4.53156\n",
      " 2 | 2 | 0 |\t 1.96222 |\t 3.92444\n",
      " 2 | 2 | 2 |\t 1.60215 |\t 3.20429\n",
      " 3 | 1 | 0 |\t 1.75506 |\t 3.51013\n",
      " 3 | 2 | 1 |\t 1.48330 |\t 2.96660\n",
      " 3 | 3 | 0 |\t 1.30815 |\t 2.61630\n",
      " 3 | 3 | 2 |\t 1.18326 |\t 2.36653\n",
      " 4 | 0 | 0 |\t 1.38750 |\t 2.77500\n",
      "=============================================\n",
      "\n"
     ]
    }
   ],
   "source": [
    "print(_handler)"
   ]
  },
  {
   "cell_type": "code",
   "execution_count": null,
   "metadata": {
    "collapsed": true,
    "run_control": {
     "frozen": false,
     "read_only": false
    }
   },
   "outputs": [],
   "source": []
  }
 ],
 "metadata": {
  "anaconda-cloud": {},
  "kernelspec": {
   "display_name": "Python 3",
   "language": "python",
   "name": "python3"
  },
  "language_info": {
   "codemirror_mode": {
    "name": "ipython",
    "version": 3
   },
   "file_extension": ".py",
   "mimetype": "text/x-python",
   "name": "python",
   "nbconvert_exporter": "python",
   "pygments_lexer": "ipython3",
   "version": "3.6.4"
  },
  "toc": {
   "colors": {
    "hover_highlight": "#DAA520",
    "running_highlight": "#FF0000",
    "selected_highlight": "#FFD700"
   },
   "moveMenuLeft": true,
   "nav_menu": {
    "height": "48px",
    "width": "252px"
   },
   "navigate_menu": true,
   "number_sections": true,
   "sideBar": true,
   "threshold": 4,
   "toc_cell": false,
   "toc_section_display": "block",
   "toc_window_display": false
  }
 },
 "nbformat": 4,
 "nbformat_minor": 1
}
